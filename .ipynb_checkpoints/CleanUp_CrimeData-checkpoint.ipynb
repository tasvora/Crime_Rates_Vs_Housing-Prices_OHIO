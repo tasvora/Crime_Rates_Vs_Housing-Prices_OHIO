{
 "cells": [
  {
   "cell_type": "code",
   "execution_count": 1,
   "metadata": {},
   "outputs": [],
   "source": [
    "import pandas as pd"
   ]
  },
  {
   "cell_type": "code",
   "execution_count": 2,
   "metadata": {},
   "outputs": [
    {
     "name": "stdout",
     "output_type": "stream",
     "text": [
      "Resources/OhioCrime2017.csv\n",
      "done changing\n",
      "Clean data saved in : Resources/OhioCrime2017_NoNan.csv\n",
      "Resources/OhioCrime2016.csv\n",
      "done changing\n",
      "Clean data saved in : Resources/OhioCrime2016_NoNan.csv\n",
      "Resources/OhioCrime2015.csv\n",
      "done changing\n",
      "Clean data saved in : Resources/OhioCrime2015_NoNan.csv\n",
      "Resources/OhioCrime2014.csv\n",
      "done changing\n",
      "Clean data saved in : Resources/OhioCrime2014_NoNan.csv\n",
      "Resources/OhioCrime2013.csv\n",
      "done changing\n",
      "Clean data saved in : Resources/OhioCrime2013_NoNan.csv\n",
      "Resources/OhioCrime2012.csv\n",
      "done changing\n",
      "Clean data saved in : Resources/OhioCrime2012_NoNan.csv\n"
     ]
    }
   ],
   "source": [
    "file_list = [\"Resources/OhioCrime2017.csv\",\"Resources/OhioCrime2016.csv\",\"Resources/OhioCrime2015.csv\",\n",
    "            \"Resources/OhioCrime2014.csv\",\"Resources/OhioCrime2013.csv\",\"Resources/OhioCrime2012.csv\"]\n",
    "for filename in file_list:\n",
    "    print(filename)\n",
    "    crime_csv = filename\n",
    "    crime_df = pd.read_csv(crime_csv)\n",
    "    crime_df = crime_df.dropna(subset=['County', 'City'])\n",
    "    print(\"done changing\")\n",
    "    clean_filename = filename[0:filename.find(\".\")]\n",
    "    crime_df.to_csv(f\"{clean_filename}_NoNan.csv\")\n",
    "    print(f\"Clean data saved in : {clean_filename}_NoNan.csv\")\n",
    "    crime_df.head()\n"
   ]
  },
  {
   "cell_type": "code",
   "execution_count": 3,
   "metadata": {},
   "outputs": [
    {
     "data": {
      "text/plain": [
       "'Resources/OhioCrime2016'"
      ]
     },
     "execution_count": 3,
     "metadata": {},
     "output_type": "execute_result"
    }
   ],
   "source": [
    "crime = \"Resources/OhioCrime2016.csv\"\n",
    "lenCrime = len(crime)\n",
    "dotIndex = crime.find(\".\")\n",
    "type(dotIndex)\n",
    "\n",
    "crime[0:dotIndex]"
   ]
  },
  {
   "cell_type": "code",
   "execution_count": 4,
   "metadata": {},
   "outputs": [
    {
     "data": {
      "text/plain": [
       "array([3, 1, 1], dtype=int64)"
      ]
     },
     "execution_count": 4,
     "metadata": {},
     "output_type": "execute_result"
    }
   ],
   "source": [
    "s = pd.Series([\"a0a1a3\", \"b1b3\", \"c1c1c3c3\"], index=[\"A\", \"B\", \"C\"])\n",
    "s.str.find('1').values\n"
   ]
  }
 ],
 "metadata": {
  "kernelspec": {
   "display_name": "Python 3",
   "language": "python",
   "name": "python3"
  },
  "language_info": {
   "codemirror_mode": {
    "name": "ipython",
    "version": 3
   },
   "file_extension": ".py",
   "mimetype": "text/x-python",
   "name": "python",
   "nbconvert_exporter": "python",
   "pygments_lexer": "ipython3",
   "version": "3.7.3"
  }
 },
 "nbformat": 4,
 "nbformat_minor": 2
}
