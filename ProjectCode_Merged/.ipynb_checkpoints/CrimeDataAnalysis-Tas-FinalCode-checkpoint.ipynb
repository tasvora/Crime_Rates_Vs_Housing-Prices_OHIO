{
 "cells": [
  {
   "cell_type": "code",
   "execution_count": 1,
   "metadata": {},
   "outputs": [],
   "source": [
    "%matplotlib notebook\n",
    "import pandas as pd\n",
    "import matplotlib.pyplot as plt\n",
    "import numpy as np\n",
    "import scipy.stats as stats\n",
    "from scipy.stats import linregress"
   ]
  },
  {
   "cell_type": "markdown",
   "metadata": {},
   "source": [
    "###### Obtaining all the csv Files"
   ]
  },
  {
   "cell_type": "code",
   "execution_count": 2,
   "metadata": {},
   "outputs": [],
   "source": [
    "#@author Tasneem\n",
    "crime2017_csv = \"Resources/OhioCrime2017_NoNan.csv\"\n",
    "crime2016_csv = \"Resources/OhioCrime2016_NoNan.csv\"\n",
    "crime2015_csv = \"Resources/OhioCrime2015_NoNan.csv\"\n",
    "crime2014_csv = \"Resources/OhioCrime2014_NoNan.csv\"\n",
    "crime2013_csv = \"Resources/OhioCrime2013_NoNan.csv\"\n",
    "crime2012_csv = \"Resources/OhioCrime2012_NoNan.csv\"\n",
    "Zillow_Ohio_csv = \"Resources/newZillowOH_Data.csv\"\n",
    "Ohio_Crime_csv = \"Resources/CrimeData_merged.csv\""
   ]
  },
  {
   "cell_type": "code",
   "execution_count": 3,
   "metadata": {},
   "outputs": [
    {
     "ename": "FileNotFoundError",
     "evalue": "[Errno 2] File b'Resources/CrimeData_merged.csv' does not exist: b'Resources/CrimeData_merged.csv'",
     "output_type": "error",
     "traceback": [
      "\u001b[1;31m---------------------------------------------------------------------------\u001b[0m",
      "\u001b[1;31mFileNotFoundError\u001b[0m                         Traceback (most recent call last)",
      "\u001b[1;32m<ipython-input-3-ce7c1061b5ee>\u001b[0m in \u001b[0;36m<module>\u001b[1;34m\u001b[0m\n\u001b[0;32m      4\u001b[0m \u001b[1;33m\u001b[0m\u001b[0m\n\u001b[0;32m      5\u001b[0m \u001b[1;31m#File Containing Data for Crime (2014-2017)\u001b[0m\u001b[1;33m\u001b[0m\u001b[1;33m\u001b[0m\u001b[1;33m\u001b[0m\u001b[0m\n\u001b[1;32m----> 6\u001b[1;33m \u001b[0mohiocrime_df\u001b[0m \u001b[1;33m=\u001b[0m \u001b[0mpd\u001b[0m\u001b[1;33m.\u001b[0m\u001b[0mread_csv\u001b[0m\u001b[1;33m(\u001b[0m\u001b[0mOhio_Crime_csv\u001b[0m\u001b[1;33m)\u001b[0m\u001b[1;33m\u001b[0m\u001b[1;33m\u001b[0m\u001b[0m\n\u001b[0m\u001b[0;32m      7\u001b[0m \u001b[0mohiocrime_df\u001b[0m \u001b[1;33m=\u001b[0m \u001b[0mohiocrime_df\u001b[0m\u001b[1;33m.\u001b[0m\u001b[0mfillna\u001b[0m\u001b[1;33m(\u001b[0m\u001b[1;36m0\u001b[0m\u001b[1;33m)\u001b[0m\u001b[1;33m\u001b[0m\u001b[1;33m\u001b[0m\u001b[0m\n",
      "\u001b[1;32m~\\Anaconda3\\lib\\site-packages\\pandas\\io\\parsers.py\u001b[0m in \u001b[0;36mparser_f\u001b[1;34m(filepath_or_buffer, sep, delimiter, header, names, index_col, usecols, squeeze, prefix, mangle_dupe_cols, dtype, engine, converters, true_values, false_values, skipinitialspace, skiprows, skipfooter, nrows, na_values, keep_default_na, na_filter, verbose, skip_blank_lines, parse_dates, infer_datetime_format, keep_date_col, date_parser, dayfirst, iterator, chunksize, compression, thousands, decimal, lineterminator, quotechar, quoting, doublequote, escapechar, comment, encoding, dialect, tupleize_cols, error_bad_lines, warn_bad_lines, delim_whitespace, low_memory, memory_map, float_precision)\u001b[0m\n\u001b[0;32m    700\u001b[0m                     skip_blank_lines=skip_blank_lines)\n\u001b[0;32m    701\u001b[0m \u001b[1;33m\u001b[0m\u001b[0m\n\u001b[1;32m--> 702\u001b[1;33m         \u001b[1;32mreturn\u001b[0m \u001b[0m_read\u001b[0m\u001b[1;33m(\u001b[0m\u001b[0mfilepath_or_buffer\u001b[0m\u001b[1;33m,\u001b[0m \u001b[0mkwds\u001b[0m\u001b[1;33m)\u001b[0m\u001b[1;33m\u001b[0m\u001b[1;33m\u001b[0m\u001b[0m\n\u001b[0m\u001b[0;32m    703\u001b[0m \u001b[1;33m\u001b[0m\u001b[0m\n\u001b[0;32m    704\u001b[0m     \u001b[0mparser_f\u001b[0m\u001b[1;33m.\u001b[0m\u001b[0m__name__\u001b[0m \u001b[1;33m=\u001b[0m \u001b[0mname\u001b[0m\u001b[1;33m\u001b[0m\u001b[1;33m\u001b[0m\u001b[0m\n",
      "\u001b[1;32m~\\Anaconda3\\lib\\site-packages\\pandas\\io\\parsers.py\u001b[0m in \u001b[0;36m_read\u001b[1;34m(filepath_or_buffer, kwds)\u001b[0m\n\u001b[0;32m    427\u001b[0m \u001b[1;33m\u001b[0m\u001b[0m\n\u001b[0;32m    428\u001b[0m     \u001b[1;31m# Create the parser.\u001b[0m\u001b[1;33m\u001b[0m\u001b[1;33m\u001b[0m\u001b[1;33m\u001b[0m\u001b[0m\n\u001b[1;32m--> 429\u001b[1;33m     \u001b[0mparser\u001b[0m \u001b[1;33m=\u001b[0m \u001b[0mTextFileReader\u001b[0m\u001b[1;33m(\u001b[0m\u001b[0mfilepath_or_buffer\u001b[0m\u001b[1;33m,\u001b[0m \u001b[1;33m**\u001b[0m\u001b[0mkwds\u001b[0m\u001b[1;33m)\u001b[0m\u001b[1;33m\u001b[0m\u001b[1;33m\u001b[0m\u001b[0m\n\u001b[0m\u001b[0;32m    430\u001b[0m \u001b[1;33m\u001b[0m\u001b[0m\n\u001b[0;32m    431\u001b[0m     \u001b[1;32mif\u001b[0m \u001b[0mchunksize\u001b[0m \u001b[1;32mor\u001b[0m \u001b[0miterator\u001b[0m\u001b[1;33m:\u001b[0m\u001b[1;33m\u001b[0m\u001b[1;33m\u001b[0m\u001b[0m\n",
      "\u001b[1;32m~\\Anaconda3\\lib\\site-packages\\pandas\\io\\parsers.py\u001b[0m in \u001b[0;36m__init__\u001b[1;34m(self, f, engine, **kwds)\u001b[0m\n\u001b[0;32m    893\u001b[0m             \u001b[0mself\u001b[0m\u001b[1;33m.\u001b[0m\u001b[0moptions\u001b[0m\u001b[1;33m[\u001b[0m\u001b[1;34m'has_index_names'\u001b[0m\u001b[1;33m]\u001b[0m \u001b[1;33m=\u001b[0m \u001b[0mkwds\u001b[0m\u001b[1;33m[\u001b[0m\u001b[1;34m'has_index_names'\u001b[0m\u001b[1;33m]\u001b[0m\u001b[1;33m\u001b[0m\u001b[1;33m\u001b[0m\u001b[0m\n\u001b[0;32m    894\u001b[0m \u001b[1;33m\u001b[0m\u001b[0m\n\u001b[1;32m--> 895\u001b[1;33m         \u001b[0mself\u001b[0m\u001b[1;33m.\u001b[0m\u001b[0m_make_engine\u001b[0m\u001b[1;33m(\u001b[0m\u001b[0mself\u001b[0m\u001b[1;33m.\u001b[0m\u001b[0mengine\u001b[0m\u001b[1;33m)\u001b[0m\u001b[1;33m\u001b[0m\u001b[1;33m\u001b[0m\u001b[0m\n\u001b[0m\u001b[0;32m    896\u001b[0m \u001b[1;33m\u001b[0m\u001b[0m\n\u001b[0;32m    897\u001b[0m     \u001b[1;32mdef\u001b[0m \u001b[0mclose\u001b[0m\u001b[1;33m(\u001b[0m\u001b[0mself\u001b[0m\u001b[1;33m)\u001b[0m\u001b[1;33m:\u001b[0m\u001b[1;33m\u001b[0m\u001b[1;33m\u001b[0m\u001b[0m\n",
      "\u001b[1;32m~\\Anaconda3\\lib\\site-packages\\pandas\\io\\parsers.py\u001b[0m in \u001b[0;36m_make_engine\u001b[1;34m(self, engine)\u001b[0m\n\u001b[0;32m   1120\u001b[0m     \u001b[1;32mdef\u001b[0m \u001b[0m_make_engine\u001b[0m\u001b[1;33m(\u001b[0m\u001b[0mself\u001b[0m\u001b[1;33m,\u001b[0m \u001b[0mengine\u001b[0m\u001b[1;33m=\u001b[0m\u001b[1;34m'c'\u001b[0m\u001b[1;33m)\u001b[0m\u001b[1;33m:\u001b[0m\u001b[1;33m\u001b[0m\u001b[1;33m\u001b[0m\u001b[0m\n\u001b[0;32m   1121\u001b[0m         \u001b[1;32mif\u001b[0m \u001b[0mengine\u001b[0m \u001b[1;33m==\u001b[0m \u001b[1;34m'c'\u001b[0m\u001b[1;33m:\u001b[0m\u001b[1;33m\u001b[0m\u001b[1;33m\u001b[0m\u001b[0m\n\u001b[1;32m-> 1122\u001b[1;33m             \u001b[0mself\u001b[0m\u001b[1;33m.\u001b[0m\u001b[0m_engine\u001b[0m \u001b[1;33m=\u001b[0m \u001b[0mCParserWrapper\u001b[0m\u001b[1;33m(\u001b[0m\u001b[0mself\u001b[0m\u001b[1;33m.\u001b[0m\u001b[0mf\u001b[0m\u001b[1;33m,\u001b[0m \u001b[1;33m**\u001b[0m\u001b[0mself\u001b[0m\u001b[1;33m.\u001b[0m\u001b[0moptions\u001b[0m\u001b[1;33m)\u001b[0m\u001b[1;33m\u001b[0m\u001b[1;33m\u001b[0m\u001b[0m\n\u001b[0m\u001b[0;32m   1123\u001b[0m         \u001b[1;32melse\u001b[0m\u001b[1;33m:\u001b[0m\u001b[1;33m\u001b[0m\u001b[1;33m\u001b[0m\u001b[0m\n\u001b[0;32m   1124\u001b[0m             \u001b[1;32mif\u001b[0m \u001b[0mengine\u001b[0m \u001b[1;33m==\u001b[0m \u001b[1;34m'python'\u001b[0m\u001b[1;33m:\u001b[0m\u001b[1;33m\u001b[0m\u001b[1;33m\u001b[0m\u001b[0m\n",
      "\u001b[1;32m~\\Anaconda3\\lib\\site-packages\\pandas\\io\\parsers.py\u001b[0m in \u001b[0;36m__init__\u001b[1;34m(self, src, **kwds)\u001b[0m\n\u001b[0;32m   1851\u001b[0m         \u001b[0mkwds\u001b[0m\u001b[1;33m[\u001b[0m\u001b[1;34m'usecols'\u001b[0m\u001b[1;33m]\u001b[0m \u001b[1;33m=\u001b[0m \u001b[0mself\u001b[0m\u001b[1;33m.\u001b[0m\u001b[0musecols\u001b[0m\u001b[1;33m\u001b[0m\u001b[1;33m\u001b[0m\u001b[0m\n\u001b[0;32m   1852\u001b[0m \u001b[1;33m\u001b[0m\u001b[0m\n\u001b[1;32m-> 1853\u001b[1;33m         \u001b[0mself\u001b[0m\u001b[1;33m.\u001b[0m\u001b[0m_reader\u001b[0m \u001b[1;33m=\u001b[0m \u001b[0mparsers\u001b[0m\u001b[1;33m.\u001b[0m\u001b[0mTextReader\u001b[0m\u001b[1;33m(\u001b[0m\u001b[0msrc\u001b[0m\u001b[1;33m,\u001b[0m \u001b[1;33m**\u001b[0m\u001b[0mkwds\u001b[0m\u001b[1;33m)\u001b[0m\u001b[1;33m\u001b[0m\u001b[1;33m\u001b[0m\u001b[0m\n\u001b[0m\u001b[0;32m   1854\u001b[0m         \u001b[0mself\u001b[0m\u001b[1;33m.\u001b[0m\u001b[0munnamed_cols\u001b[0m \u001b[1;33m=\u001b[0m \u001b[0mself\u001b[0m\u001b[1;33m.\u001b[0m\u001b[0m_reader\u001b[0m\u001b[1;33m.\u001b[0m\u001b[0munnamed_cols\u001b[0m\u001b[1;33m\u001b[0m\u001b[1;33m\u001b[0m\u001b[0m\n\u001b[0;32m   1855\u001b[0m \u001b[1;33m\u001b[0m\u001b[0m\n",
      "\u001b[1;32mpandas/_libs/parsers.pyx\u001b[0m in \u001b[0;36mpandas._libs.parsers.TextReader.__cinit__\u001b[1;34m()\u001b[0m\n",
      "\u001b[1;32mpandas/_libs/parsers.pyx\u001b[0m in \u001b[0;36mpandas._libs.parsers.TextReader._setup_parser_source\u001b[1;34m()\u001b[0m\n",
      "\u001b[1;31mFileNotFoundError\u001b[0m: [Errno 2] File b'Resources/CrimeData_merged.csv' does not exist: b'Resources/CrimeData_merged.csv'"
     ]
    }
   ],
   "source": [
    "#File Containing Data for Zillow\n",
    "zillow_df = pd.read_csv(Zillow_Ohio_csv)\n",
    "zillow_df = zillow_df.fillna(0)\n",
    "\n",
    "#File Containing Data for Crime (2014-2017)\n",
    "ohiocrime_df = pd.read_csv(Ohio_Crime_csv)\n",
    "ohiocrime_df = ohiocrime_df.fillna(0)"
   ]
  },
  {
   "cell_type": "code",
   "execution_count": null,
   "metadata": {},
   "outputs": [],
   "source": [
    "#Renaming the COlumns for Zillow Data\n",
    "zillow_df = zillow_df.rename(columns={\"RegionName\": \"City\", \"2017\": \"2017 Median Price\", \"2016\":\"2016 Median Price\",\n",
    "                                     \"2015\": \"2015 Median Price\", \"2014\": \"2014 Median Price\", \"2013\":\"2013 Median Price\",\n",
    "                                     \"2012\":\"2012 Median Price\"})\n",
    "zillow_df.columns"
   ]
  },
  {
   "cell_type": "markdown",
   "metadata": {},
   "source": [
    "**Merging the Data from Crime and Housing.**\n",
    "**And calculating the Crime rate for each year and adding it to the Dataframe**"
   ]
  },
  {
   "cell_type": "code",
   "execution_count": null,
   "metadata": {},
   "outputs": [],
   "source": [
    "merge_Zillow_Crime_df = pd.merge(ohiocrime_df, zillow_df, on = \"City\")\n",
    "merge_Zillow_Crime_df.to_csv(\"CrimeZillow_MergeData.csv\")\n",
    "merge_Zillow_Crime_df.head()\n",
    "\n",
    "merge_Zillow_Crime_df=merge_Zillow_Crime_df.sort_values(\"2017 Population\", ascending=False)\n",
    "merge_ZillowCrime_df = merge_Zillow_Crime_df.drop_duplicates()\n",
    "merge_ZillowCrime_df\n",
    "merge_Zillow_Crime_df.to_csv(\"SortedCrimeZillow_MergeData.csv\")"
   ]
  },
  {
   "cell_type": "code",
   "execution_count": null,
   "metadata": {},
   "outputs": [],
   "source": [
    "\n",
    "merge_Zillow_Crime_df[\"Crime Rate 2017\"] = ((merge_Zillow_Crime_df[\"2017 Violent Crime\"])/(merge_Zillow_Crime_df[\"2017 Population\"]))*100000\n",
    "merge_Zillow_Crime_df[\"Crime Rate 2016\"] = ((merge_Zillow_Crime_df[\"2016 Violent Crime\"])/(merge_Zillow_Crime_df[\"2016 Population\"]))*100000\n",
    "merge_Zillow_Crime_df[\"Crime Rate 2015\"] = ((merge_Zillow_Crime_df[\"2015 Violent Crime\"])/(merge_Zillow_Crime_df[\"2015 Population\"]))*100000\n",
    "merge_Zillow_Crime_df[\"Crime Rate 2014\"] = ((merge_Zillow_Crime_df[\"2014 Violent Crime\"])/(merge_Zillow_Crime_df[\"2014 Population\"]))*100000\n",
    "merge_Zillow_Crime_df[\"Crime Rate 2013\"] = ((merge_Zillow_Crime_df[\"2013 Violent Crime\"])/(merge_Zillow_Crime_df[\"2013 Population\"]))*100000\n",
    "\n",
    "merge_Zillow_Crime_df.reset_index().tail()"
   ]
  },
  {
   "cell_type": "markdown",
   "metadata": {},
   "source": [
    "- Ploting for top 5 populated city, just picking the first 5, as it is sorted with Population.\n",
    "- Ploting the line graph\n",
    "- Ploting the line regression and obtaining the p-value"
   ]
  },
  {
   "cell_type": "code",
   "execution_count": null,
   "metadata": {},
   "outputs": [],
   "source": [
    "#@author Tasneem\n",
    "#Retrieving data to plot for A City (index in the iLoc below will retrieve a City)\n",
    "years =  [\"2014\",\"2015\",\"2016\",\"2017\"]\n",
    "citygraphs = [0,1,2,3,4]\n",
    "\n",
    "for gCount in citygraphs:\n",
    "    city1Data = merge_Zillow_Crime_df.iloc[gCount,:]\n",
    "    cityPercent = [city1Data[\"Crime Rate 2014\"],city1Data[\"Crime Rate 2015\"],city1Data[\"Crime Rate 2016\"],city1Data[\"Crime Rate 2017\"]]\n",
    "    housingMedian = [city1Data[\"2014 Median Price\"],city1Data[\"2015 Median Price\"],city1Data[\"2016 Median Price\"],city1Data[\"2017 Median Price\"]]\n",
    "    plot_mergeData_df = pd.DataFrame({\"Years\" : years, \"CrimeRate\" : cityPercent, \"Housing_Median\" : housingMedian })\n",
    "\n",
    "    plot_years = plot_mergeData_df[\"Years\"]\n",
    "    crimeRate = pd.to_numeric(plot_mergeData_df[\"CrimeRate\"])\n",
    "    housingMedian =  plot_mergeData_df[\"Housing_Median\"]\n",
    "    citiName = city1Data[\"City\"]\n",
    "\n",
    "\n",
    "    fig, ax1 = plt.subplots(figsize=(9,5))\n",
    "\n",
    "    #Plotting Crime Percent\n",
    "    color = 'tab:red'\n",
    "    ax1.set_xlabel('Years')\n",
    "    ax1.set_ylabel('Crime Rate', color=color)\n",
    "    ax1.plot(plot_years, crimeRate, color=color)\n",
    "    ax1.tick_params(axis='y', labelcolor=color)\n",
    "\n",
    "     # instantiate a second axes that shares the same x-axis\n",
    "    ax2 = ax1.twinx() \n",
    "\n",
    "    #Plotting Housing Median\n",
    "    color = 'tab:blue'\n",
    "    ax2.set_ylabel('Median Housing Sales', color=color)  # we already handled the x-label with ax1\n",
    "    ax2.plot(plot_years, housingMedian, color=color)\n",
    "    ax2.tick_params(axis='y', labelcolor=color)\n",
    "\n",
    "\n",
    "    #fig.tight_layout()\n",
    "    plt.grid(True)\n",
    "    plt.title(\"Crime Rate Vs Median Housing Sales for \" + citiName,fontsize=10, fontweight=\"bold\")\n",
    "\n",
    "    plt.savefig(\"images/plots/CrimeVsHousingMedian_Yearly_\"+citiName+\".png\")\n",
    "\n",
    "\n",
    "    # Regression for Each City (over 3 years)\n",
    "    vc_slope, vc_int, vc_r, vc_p, vc_std_err = linregress(crimeRate, housingMedian)\n",
    "    fit = vc_slope * crimeRate + vc_int\n",
    "\n",
    "    # Plot data\n",
    "    fig, ax = plt.subplots(figsize=(8,5))\n",
    "\n",
    "    plt.suptitle(\"Crime Vs Median Housing Sales\", fontsize=16, fontweight=\"bold\")\n",
    "\n",
    "\n",
    "    ax.set_xlabel(\"Crime Rate\")\n",
    "    ax.set_ylabel(\"Median Housing Sales\")\n",
    "\n",
    "    ax.plot(crimeRate, housingMedian, linewidth=0, marker='o',color=\"b\")\n",
    "    ax.plot(crimeRate, fit, 'g--', linewidth=1)\n",
    "\n",
    "    plt.grid(True)\n",
    "    plt.title(\"(\" + citiName+\") pValue: \"+ str(vc_p),fontsize=10, fontweight=\"bold\")\n",
    "\n",
    "    plt.savefig(\"images/plots/\"+citiName+\"_pValue.png\")\n",
    "    #plt.show()"
   ]
  },
  {
   "cell_type": "markdown",
   "metadata": {},
   "source": [
    "- Plotting a bar graph for the top 20 poulated cities, Crime Rate Vs Housing Median for year 2017\n",
    "- Plotting a line regression and obtaining the pvalue\n"
   ]
  },
  {
   "cell_type": "code",
   "execution_count": null,
   "metadata": {},
   "outputs": [],
   "source": [
    "#@author Tasneem\n",
    "city20 = merge_Zillow_Crime_df.head(20)\n",
    "labelcity = city20[\"City\"].tolist()\n",
    "#print(labelcity)\n",
    "#plottiing a graph for just 20 cities\n",
    "crime20_rate2017 = pd.to_numeric(city20[\"Crime Rate 2017\"])\n",
    "housing20_median2017 = pd.to_numeric(city20[\"2017 Median Price\"])\n",
    "\n",
    "x = np.arange(len(labelcity))  # the label locations\n",
    "#print(x)\n",
    "width = 0.35  # the width of the bars\n",
    "\n",
    "fig, ax1 = plt.subplots(figsize=(9,13))\n",
    "#Plotting Crime Percent\n",
    "#color = 'tab:red'\n",
    "ax1.set_xlabel('Cities')\n",
    "ax1.set_ylabel('Crime Rate 2017')\n",
    "ax1.bar(x + width/2, crime20_rate2017, width, label='Crime Rate', color='r')\n",
    "ax1.set_xticks(x)\n",
    "ax1.set_xticklabels(labelcity,rotation='vertical')\n",
    "ax1.legend()\n",
    " # instantiate a second axes that shares the same x-axis\n",
    "ax2 = ax1.twinx() \n",
    "\n",
    "#Plotting Housing Median\n",
    "#color = 'tab:blue'\n",
    "ax2.set_ylabel('Median Housing Sales 2017')  # we already handled the x-label with ax1\n",
    "ax2.bar(x - width/2, housing20_median2017, width, label='Housing Sale Median', color='g')\n",
    "\n",
    "fig.suptitle(\"Top 20 High Populated Cities\",fontsize=14, fontweight=\"bold\",va='top')\n",
    "#fig.tight_layout()\n",
    "\n",
    "plt.legend(loc='best')\n",
    "plt.grid(True)\n",
    "plt.title(\"(2017) Crime Rate Vs Median Housing Sales\", fontsize=14, fontweight=\"bold\",va='top')\n",
    "\n",
    "plt.show()\n",
    "\n",
    "plt.savefig(\"images/plots/CrimeVsHousingMedian_2017_top20.png\")"
   ]
  },
  {
   "cell_type": "code",
   "execution_count": null,
   "metadata": {},
   "outputs": [],
   "source": [
    "#@author Tasneem\n",
    "# Set line\n",
    "vc_slope, vc_int, vc_r, vc_p, vc_std_err = stats.linregress(crime20_rate2017, housing20_median2017)\n",
    "\n",
    "fit = vc_slope * crime20_rate2017 + vc_int\n",
    "\n",
    "# Plot data\n",
    "fig, ax = plt.subplots()\n",
    "fig.suptitle(\"(2017) Crime Vs Median Housing Sales\", fontsize=16, fontweight=\"bold\")\n",
    "\n",
    "ax.set_xlabel(\"Crime Rate\")\n",
    "ax.plot(crime20_rate2017, housing20_median2017, linewidth=0, marker='o',color=\"r\")\n",
    "ax.plot(crime20_rate2017, fit, \"b--\", linewidth=1)\n",
    "ax.set_ylabel(\"Median Housing Sales\")\n",
    "plt.grid(True)\n",
    "plt.title(\"pValue: \"+ str(vc_p),fontsize=10, fontweight=\"bold\")\n",
    "plt.show()\n",
    "\n",
    "plt.savefig(\"images/plots/CrimeVsHousingMedian_2017_top20_PVALUE.png\")"
   ]
  },
  {
   "cell_type": "markdown",
   "metadata": {},
   "source": [
    "- Plotting a bar graph for the top 20 poulated cities, Crime Rate Vs Housing Median for year 2016\n",
    "- Plotting a line regression and obtaining the pvalue\n"
   ]
  },
  {
   "cell_type": "code",
   "execution_count": null,
   "metadata": {},
   "outputs": [],
   "source": [
    "#@author Tasneem\n",
    "\n",
    "#plottiing a graph for just 20 cities\n",
    "crime20_rate2016 = pd.to_numeric(city20[\"Crime Rate 2016\"])\n",
    "housing20_median2016 = pd.to_numeric(city20[\"2016 Median Price\"])\n",
    "\n",
    "x = np.arange(len(labelcity))  # the label locations\n",
    "#print(x)\n",
    "width = 0.35  # the width of the bars\n",
    "\n",
    "fig, ax1 = plt.subplots(figsize=(9,13))\n",
    "#Plotting Crime Percent\n",
    "#color = 'tab:red'\n",
    "ax1.set_xlabel('Cities')\n",
    "ax1.set_ylabel('Crime Rate 2016')\n",
    "ax1.bar(x + width/2, crime20_rate2016, width, label='Crime Rate', color='r')\n",
    "ax1.set_xticks(x)\n",
    "ax1.set_xticklabels(labelcity,rotation='vertical')\n",
    "\n",
    " # instantiate a second axes that shares the same x-axis\n",
    "ax2 = ax1.twinx() \n",
    "\n",
    "#Plotting Housing Median\n",
    "#color = 'tab:blue'\n",
    "ax2.set_ylabel('Median Housing Sales 2016')  # we already handled the x-label with ax1\n",
    "ax2.bar(x - width/2, housing20_median2016, width, label='Housing Sale Median', color='g')\n",
    "\n",
    "fig.suptitle(\"Top 20 High Populated Cities\",fontsize=14, fontweight=\"bold\")\n",
    "#fig.tight_layout()\n",
    "plt.grid(True)\n",
    "plt.title(\"(2016) Crime Rate Vs Median Housing Sales\", fontsize=14, fontweight=\"bold\")\n",
    "\n",
    "plt.show()\n",
    "plt.savefig(\"images/plots/CrimeVsHousingMedian_2016_top20.png\")"
   ]
  },
  {
   "cell_type": "code",
   "execution_count": null,
   "metadata": {},
   "outputs": [],
   "source": [
    "#@author Tasneem\n",
    "# Set line\n",
    "vc_slope, vc_int, vc_r, vc_p, vc_std_err = stats.linregress(crime20_rate2016, housing20_median2016)\n",
    "\n",
    "fit = vc_slope * crime20_rate2016 + vc_int\n",
    "\n",
    "# Plot data\n",
    "fig, ax = plt.subplots()\n",
    "fig.suptitle(\"(2016) Crime Vs Median Housing Sales\", fontsize=16, fontweight=\"bold\")\n",
    "\n",
    "ax.set_xlabel(\"Crime Rate\")\n",
    "ax.plot(crime20_rate2016, housing20_median2016, linewidth=0, marker='o',color=\"r\")\n",
    "ax.plot(crime20_rate2016, fit, \"b--\", linewidth=1)\n",
    "ax.set_ylabel(\"Median Housing Sales\")\n",
    "plt.grid(True)\n",
    "plt.title(\"pValue: \"+ str(vc_p),fontsize=10, fontweight=\"bold\")\n",
    "plt.show()\n",
    "\n",
    "plt.savefig(\"images/plots/CrimeVsHousingMedian_2016_top20_PVALUE.png\")"
   ]
  },
  {
   "cell_type": "code",
   "execution_count": null,
   "metadata": {},
   "outputs": [],
   "source": []
  }
 ],
 "metadata": {
  "kernelspec": {
   "display_name": "Python 3",
   "language": "python",
   "name": "python3"
  },
  "language_info": {
   "codemirror_mode": {
    "name": "ipython",
    "version": 3
   },
   "file_extension": ".py",
   "mimetype": "text/x-python",
   "name": "python",
   "nbconvert_exporter": "python",
   "pygments_lexer": "ipython3",
   "version": "3.7.3"
  }
 },
 "nbformat": 4,
 "nbformat_minor": 2
}
