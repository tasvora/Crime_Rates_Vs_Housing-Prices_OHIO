{
 "cells": [
  {
   "cell_type": "code",
   "execution_count": 6,
   "metadata": {},
   "outputs": [],
   "source": [
    "import pandas as pd"
   ]
  },
  {
   "cell_type": "code",
   "execution_count": 7,
   "metadata": {},
   "outputs": [],
   "source": [
    "Zillow_Ohio_csv = \"Resources/Zillow_OH_CSV.csv\"\n",
    "crime2017_csv = \"Resources/2017Crime.csv\""
   ]
  },
  {
   "cell_type": "code",
   "execution_count": 26,
   "metadata": {},
   "outputs": [
    {
     "data": {
      "text/html": [
       "<div>\n",
       "<style scoped>\n",
       "    .dataframe tbody tr th:only-of-type {\n",
       "        vertical-align: middle;\n",
       "    }\n",
       "\n",
       "    .dataframe tbody tr th {\n",
       "        vertical-align: top;\n",
       "    }\n",
       "\n",
       "    .dataframe thead th {\n",
       "        text-align: right;\n",
       "    }\n",
       "</style>\n",
       "<table border=\"1\" class=\"dataframe\">\n",
       "  <thead>\n",
       "    <tr style=\"text-align: right;\">\n",
       "      <th></th>\n",
       "      <th>ORI</th>\n",
       "      <th>AGENCY NAME</th>\n",
       "      <th>County Name</th>\n",
       "      <th>POPULATION</th>\n",
       "      <th>VIOLENT CRIME</th>\n",
       "      <th>PROPERTY CRIME</th>\n",
       "      <th>MURDER</th>\n",
       "      <th>RAPE</th>\n",
       "      <th>ROBBERY</th>\n",
       "      <th>AGGRAVATED ASSAULT</th>\n",
       "      <th>BURGLARY</th>\n",
       "      <th>LARCENY</th>\n",
       "      <th>MTR VEHICLE THEFT</th>\n",
       "      <th>ARSON</th>\n",
       "    </tr>\n",
       "  </thead>\n",
       "  <tbody>\n",
       "    <tr>\n",
       "      <th>0</th>\n",
       "      <td>OH00204</td>\n",
       "      <td>LIMA</td>\n",
       "      <td>ALLEN COUNTY</td>\n",
       "      <td>37,220</td>\n",
       "      <td>275</td>\n",
       "      <td>1,982</td>\n",
       "      <td>5.0</td>\n",
       "      <td>52.0</td>\n",
       "      <td>81</td>\n",
       "      <td>137</td>\n",
       "      <td>569</td>\n",
       "      <td>1,334</td>\n",
       "      <td>79</td>\n",
       "      <td>20.0</td>\n",
       "    </tr>\n",
       "    <tr>\n",
       "      <th>1</th>\n",
       "      <td>OH00201</td>\n",
       "      <td>BLUFFTON</td>\n",
       "      <td>ALLEN COUNTY</td>\n",
       "      <td>3,987</td>\n",
       "      <td>1</td>\n",
       "      <td>46</td>\n",
       "      <td>0.0</td>\n",
       "      <td>1.0</td>\n",
       "      <td>0</td>\n",
       "      <td>0</td>\n",
       "      <td>9</td>\n",
       "      <td>36</td>\n",
       "      <td>1</td>\n",
       "      <td>0.0</td>\n",
       "    </tr>\n",
       "    <tr>\n",
       "      <th>2</th>\n",
       "      <td>OH00202</td>\n",
       "      <td>DELPHOS</td>\n",
       "      <td>ALLEN COUNTY</td>\n",
       "      <td>3,927</td>\n",
       "      <td>3</td>\n",
       "      <td>90</td>\n",
       "      <td>0.0</td>\n",
       "      <td>3.0</td>\n",
       "      <td>0</td>\n",
       "      <td>0</td>\n",
       "      <td>17</td>\n",
       "      <td>72</td>\n",
       "      <td>1</td>\n",
       "      <td>0.0</td>\n",
       "    </tr>\n",
       "    <tr>\n",
       "      <th>3</th>\n",
       "      <td>OH00205</td>\n",
       "      <td>SPENCERVILLE</td>\n",
       "      <td>ALLEN COUNTY</td>\n",
       "      <td>2,184</td>\n",
       "      <td>0</td>\n",
       "      <td>14</td>\n",
       "      <td>0.0</td>\n",
       "      <td>0.0</td>\n",
       "      <td>0</td>\n",
       "      <td>0</td>\n",
       "      <td>5</td>\n",
       "      <td>9</td>\n",
       "      <td>0</td>\n",
       "      <td>0.0</td>\n",
       "    </tr>\n",
       "    <tr>\n",
       "      <th>4</th>\n",
       "      <td>OH00207</td>\n",
       "      <td>ELIDA</td>\n",
       "      <td>ALLEN COUNTY</td>\n",
       "      <td>1,836</td>\n",
       "      <td>1</td>\n",
       "      <td>4</td>\n",
       "      <td>0.0</td>\n",
       "      <td>0.0</td>\n",
       "      <td>0</td>\n",
       "      <td>1</td>\n",
       "      <td>1</td>\n",
       "      <td>3</td>\n",
       "      <td>0</td>\n",
       "      <td>0.0</td>\n",
       "    </tr>\n",
       "  </tbody>\n",
       "</table>\n",
       "</div>"
      ],
      "text/plain": [
       "       ORI   AGENCY NAME   County Name POPULATION VIOLENT CRIME  \\\n",
       "0  OH00204          LIMA  ALLEN COUNTY     37,220           275   \n",
       "1  OH00201      BLUFFTON  ALLEN COUNTY      3,987             1   \n",
       "2  OH00202       DELPHOS  ALLEN COUNTY      3,927             3   \n",
       "3  OH00205  SPENCERVILLE  ALLEN COUNTY      2,184             0   \n",
       "4  OH00207         ELIDA  ALLEN COUNTY      1,836             1   \n",
       "\n",
       "  PROPERTY CRIME  MURDER  RAPE ROBBERY AGGRAVATED ASSAULT BURGLARY LARCENY  \\\n",
       "0          1,982     5.0  52.0      81                137      569   1,334   \n",
       "1             46     0.0   1.0       0                  0        9      36   \n",
       "2             90     0.0   3.0       0                  0       17      72   \n",
       "3             14     0.0   0.0       0                  0        5       9   \n",
       "4              4     0.0   0.0       0                  1        1       3   \n",
       "\n",
       "  MTR VEHICLE THEFT  ARSON  \n",
       "0                79   20.0  \n",
       "1                 1    0.0  \n",
       "2                 1    0.0  \n",
       "3                 0    0.0  \n",
       "4                 0    0.0  "
      ]
     },
     "execution_count": 26,
     "metadata": {},
     "output_type": "execute_result"
    }
   ],
   "source": [
    "zillow_df = pd.read_csv(Zillow_Ohio_csv)\n",
    "crime2017_df = pd.read_csv(crime2017_csv)\n",
    "#crime2017_df.dropna(how='all')\n",
    "\n",
    "crime2017_df = crime2017_df.fillna(0)\n",
    "\n",
    "crime2017_df['County Name'] = crime2017_df['County Name'].str.upper()\n",
    "crime2017_df.head()\n",
    "#crime2017_df.columns"
   ]
  },
  {
   "cell_type": "code",
   "execution_count": 28,
   "metadata": {},
   "outputs": [
    {
     "data": {
      "text/plain": [
       "Index(['Index', 'RegionID', 'RegionName', 'City', 'State', 'Metro',\n",
       "       'CountyName', 'SizeRank', '2007', '2008', '2009', '2010', '2011',\n",
       "       '2012', '2013', '2014', '2015', '2016', '2017', '2018'],\n",
       "      dtype='object')"
      ]
     },
     "execution_count": 28,
     "metadata": {},
     "output_type": "execute_result"
    }
   ],
   "source": [
    "zillow_df['CountyName'] = zillow_df['CountyName'].str.upper()\n",
    "zillow_df.head()\n",
    "\n",
    "zillow_df.columns"
   ]
  },
  {
   "cell_type": "code",
   "execution_count": 30,
   "metadata": {},
   "outputs": [
    {
     "data": {
      "text/plain": [
       "Index(['Index', 'RegionID', 'RegionName', 'City', 'State', 'Metro',\n",
       "       'CountyName', 'SizeRank', '2007', '2008', '2009', '2010', '2011',\n",
       "       '2012', '2013', '2014', '2015', '2016', '2017', '2018', 'ORI',\n",
       "       'AGENCY NAME', 'County Name', 'POPULATION', 'VIOLENT CRIME',\n",
       "       'PROPERTY CRIME', 'MURDER', 'RAPE', 'ROBBERY', 'AGGRAVATED ASSAULT',\n",
       "       'BURGLARY', 'LARCENY', 'MTR VEHICLE THEFT', 'ARSON'],\n",
       "      dtype='object')"
      ]
     },
     "execution_count": 30,
     "metadata": {},
     "output_type": "execute_result"
    }
   ],
   "source": [
    "merge_Zillow_Crime_df = pd.merge(zillow_df, crime2017_df, how='left', left_on=\"CountyName\", right_on=\"County Name\")\n",
    "merge_Zillow_Crime_df.head()\n",
    "merge_Zillow_Crime_df.to_csv(\"MergeData.csv\")\n",
    "\n",
    "merge_Zillow_Crime_df.columns"
   ]
  }
 ],
 "metadata": {
  "kernelspec": {
   "display_name": "Python 3",
   "language": "python",
   "name": "python3"
  },
  "language_info": {
   "codemirror_mode": {
    "name": "ipython",
    "version": 3
   },
   "file_extension": ".py",
   "mimetype": "text/x-python",
   "name": "python",
   "nbconvert_exporter": "python",
   "pygments_lexer": "ipython3",
   "version": "3.7.3"
  }
 },
 "nbformat": 4,
 "nbformat_minor": 2
}
