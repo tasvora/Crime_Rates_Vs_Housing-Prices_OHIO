{
 "cells": [
  {
   "cell_type": "code",
   "execution_count": 1,
   "metadata": {},
   "outputs": [],
   "source": [
    "import pandas as pd"
   ]
  },
  {
   "cell_type": "code",
   "execution_count": 44,
   "metadata": {},
   "outputs": [],
   "source": [
    "Zillow_Ohio_csv = \"Resources/Zillow_OH_CSV.csv\"\n",
    "crime2017_csv = \"Resources/OhioCrime2017_NoNan.csv\"\n",
    "crime2016_csv = \"Resources/OhioCrime2016_NoNan.csv\""
   ]
  },
  {
   "cell_type": "code",
   "execution_count": 45,
   "metadata": {},
   "outputs": [
    {
     "data": {
      "text/html": [
       "<div>\n",
       "<style scoped>\n",
       "    .dataframe tbody tr th:only-of-type {\n",
       "        vertical-align: middle;\n",
       "    }\n",
       "\n",
       "    .dataframe tbody tr th {\n",
       "        vertical-align: top;\n",
       "    }\n",
       "\n",
       "    .dataframe thead th {\n",
       "        text-align: right;\n",
       "    }\n",
       "</style>\n",
       "<table border=\"1\" class=\"dataframe\">\n",
       "  <thead>\n",
       "    <tr style=\"text-align: right;\">\n",
       "      <th></th>\n",
       "      <th>Unnamed: 0</th>\n",
       "      <th>County</th>\n",
       "      <th>City</th>\n",
       "      <th>AGENCY NAME</th>\n",
       "      <th>POPULATION</th>\n",
       "      <th>VIOLENT CRIME</th>\n",
       "      <th>PROPERTY CRIME</th>\n",
       "      <th>MURDER</th>\n",
       "      <th>RAPE</th>\n",
       "      <th>ROBBERY</th>\n",
       "      <th>AGGRAVATED ASSAULT</th>\n",
       "      <th>BURGLARY</th>\n",
       "      <th>LARCENY</th>\n",
       "      <th>MTR VEHICLE THEFT</th>\n",
       "      <th>ARSON</th>\n",
       "    </tr>\n",
       "  </thead>\n",
       "  <tbody>\n",
       "    <tr>\n",
       "      <th>0</th>\n",
       "      <td>9</td>\n",
       "      <td>ALLEN COUNTY</td>\n",
       "      <td>Lima</td>\n",
       "      <td>LIMA</td>\n",
       "      <td>37,715</td>\n",
       "      <td>356</td>\n",
       "      <td>2,259</td>\n",
       "      <td>8</td>\n",
       "      <td>44</td>\n",
       "      <td>123</td>\n",
       "      <td>181</td>\n",
       "      <td>602</td>\n",
       "      <td>1,540</td>\n",
       "      <td>117</td>\n",
       "      <td>22</td>\n",
       "    </tr>\n",
       "    <tr>\n",
       "      <th>1</th>\n",
       "      <td>10</td>\n",
       "      <td>ALLEN COUNTY</td>\n",
       "      <td>Bluffton</td>\n",
       "      <td>BLUFFTON</td>\n",
       "      <td>3,953</td>\n",
       "      <td>1</td>\n",
       "      <td>78</td>\n",
       "      <td>0</td>\n",
       "      <td>0</td>\n",
       "      <td>1</td>\n",
       "      <td>0</td>\n",
       "      <td>15</td>\n",
       "      <td>59</td>\n",
       "      <td>4</td>\n",
       "      <td>0</td>\n",
       "    </tr>\n",
       "    <tr>\n",
       "      <th>2</th>\n",
       "      <td>11</td>\n",
       "      <td>ALLEN COUNTY</td>\n",
       "      <td>Delphos</td>\n",
       "      <td>DELPHOS</td>\n",
       "      <td>3,884</td>\n",
       "      <td>2</td>\n",
       "      <td>83</td>\n",
       "      <td>0</td>\n",
       "      <td>1</td>\n",
       "      <td>0</td>\n",
       "      <td>1</td>\n",
       "      <td>13</td>\n",
       "      <td>69</td>\n",
       "      <td>1</td>\n",
       "      <td>0</td>\n",
       "    </tr>\n",
       "    <tr>\n",
       "      <th>3</th>\n",
       "      <td>12</td>\n",
       "      <td>ALLEN COUNTY</td>\n",
       "      <td>Spencerville</td>\n",
       "      <td>SPENCERVILLE</td>\n",
       "      <td>2,195</td>\n",
       "      <td>1</td>\n",
       "      <td>28</td>\n",
       "      <td>0</td>\n",
       "      <td>0</td>\n",
       "      <td>0</td>\n",
       "      <td>1</td>\n",
       "      <td>5</td>\n",
       "      <td>23</td>\n",
       "      <td>0</td>\n",
       "      <td>1</td>\n",
       "    </tr>\n",
       "    <tr>\n",
       "      <th>4</th>\n",
       "      <td>13</td>\n",
       "      <td>ALLEN COUNTY</td>\n",
       "      <td>Elida</td>\n",
       "      <td>ELIDA</td>\n",
       "      <td>1,852</td>\n",
       "      <td>0</td>\n",
       "      <td>16</td>\n",
       "      <td>0</td>\n",
       "      <td>0</td>\n",
       "      <td>0</td>\n",
       "      <td>0</td>\n",
       "      <td>3</td>\n",
       "      <td>12</td>\n",
       "      <td>1</td>\n",
       "      <td>0</td>\n",
       "    </tr>\n",
       "  </tbody>\n",
       "</table>\n",
       "</div>"
      ],
      "text/plain": [
       "   Unnamed: 0        County          City   AGENCY NAME POPULATION  \\\n",
       "0           9  ALLEN COUNTY          Lima          LIMA     37,715   \n",
       "1          10  ALLEN COUNTY      Bluffton      BLUFFTON      3,953   \n",
       "2          11  ALLEN COUNTY       Delphos       DELPHOS      3,884   \n",
       "3          12  ALLEN COUNTY  Spencerville  SPENCERVILLE      2,195   \n",
       "4          13  ALLEN COUNTY         Elida         ELIDA      1,852   \n",
       "\n",
       "  VIOLENT CRIME PROPERTY CRIME  MURDER  RAPE ROBBERY AGGRAVATED ASSAULT  \\\n",
       "0           356          2,259       8    44     123                181   \n",
       "1             1             78       0     0       1                  0   \n",
       "2             2             83       0     1       0                  1   \n",
       "3             1             28       0     0       0                  1   \n",
       "4             0             16       0     0       0                  0   \n",
       "\n",
       "  BURGLARY LARCENY MTR VEHICLE THEFT  ARSON  \n",
       "0      602   1,540               117     22  \n",
       "1       15      59                 4      0  \n",
       "2       13      69                 1      0  \n",
       "3        5      23                 0      1  \n",
       "4        3      12                 1      0  "
      ]
     },
     "execution_count": 45,
     "metadata": {},
     "output_type": "execute_result"
    }
   ],
   "source": [
    "zillow_df = pd.read_csv(Zillow_Ohio_csv)\n",
    "crime2017_df = pd.read_csv(crime2017_csv)\n",
    "#crime2017_df.dropna(how='all')\n",
    "\n",
    "crime2017_df = crime2017_df.fillna(0)\n",
    "\n",
    "crime2017_df['County'] = crime2017_df['County'].str.upper()\n",
    "crime2017_df.head()\n",
    "#crime2017_df.columns\n",
    "\n",
    "crime2016_df = pd.read_csv(crime2016_csv)\n",
    "#crime2017_df.dropna(how='all')\n",
    "\n",
    "crime2016_df = crime2016_df.fillna(0)\n",
    "\n",
    "crime2016_df['County'] = crime2016_df['County'].str.upper()\n",
    "crime2016_df.head()"
   ]
  },
  {
   "cell_type": "code",
   "execution_count": 35,
   "metadata": {},
   "outputs": [
    {
     "data": {
      "text/plain": [
       "Index(['Index', 'RegionID', 'RegionName', 'City', 'State', 'Metro',\n",
       "       'CountyName', 'SizeRank', '2007', '2008', '2009', '2010', '2011',\n",
       "       '2012', '2013', '2014', '2015', '2016', '2017', '2018'],\n",
       "      dtype='object')"
      ]
     },
     "execution_count": 35,
     "metadata": {},
     "output_type": "execute_result"
    }
   ],
   "source": [
    "zillow_df['CountyName'] = zillow_df['CountyName'].str.upper()\n",
    "zillow_df.head()\n",
    "\n",
    "zillow_df.columns"
   ]
  },
  {
   "cell_type": "code",
   "execution_count": 51,
   "metadata": {},
   "outputs": [
    {
     "data": {
      "text/plain": [
       "Index(['Unnamed: 0_x', 'County_x', 'City', 'AGENCY NAME_x', 'POPULATION_x',\n",
       "       'VIOLENT CRIME_x', 'PROPERTY CRIME_x', 'MURDER_x', 'RAPE_x',\n",
       "       'ROBBERY_x', 'AGGRAVATED ASSAULT_x', 'BURGLARY_x', 'LARCENY_x',\n",
       "       'MTR VEHICLE THEFT_x', 'ARSON_x', 'Unnamed: 0_y', 'County_y', 'ORI',\n",
       "       'AGENCY NAME_y', 'POPULATION_y', 'VIOLENT CRIME_y', 'PROPERTY CRIME_y',\n",
       "       'MURDER_y', 'RAPE_y', 'ROBBERY_y', 'AGGRAVATED ASSAULT_y', 'BURGLARY_y',\n",
       "       'LARCENY_y', 'MTR VEHICLE THEFT_y', 'ARSON_y'],\n",
       "      dtype='object')"
      ]
     },
     "execution_count": 51,
     "metadata": {},
     "output_type": "execute_result"
    }
   ],
   "source": [
    "merge_Crime_df = pd.merge(crime2016_df, crime2017_df, left_on=\"City\", right_on=\"City\")\n",
    "merge_Crime_df.head()\n",
    "merge_Crime_df.to_csv(\"merge_Crime_df1.csv\")\n",
    "\n",
    "merge_Crime_df.columns"
   ]
  },
  {
   "cell_type": "code",
   "execution_count": 42,
   "metadata": {},
   "outputs": [
    {
     "data": {
      "text/plain": [
       "Index(['Index', 'RegionID', 'RegionName', 'City', 'State', 'Metro',\n",
       "       'CountyName', 'SizeRank', '2007', '2008', '2009', '2010', '2011',\n",
       "       '2012', '2013', '2014', '2015', '2016', '2017', '2018', 'Unnamed: 0',\n",
       "       'County', 'ORI', 'AGENCY NAME', 'POPULATION', 'VIOLENT CRIME',\n",
       "       'PROPERTY CRIME', 'MURDER', 'RAPE', 'ROBBERY', 'AGGRAVATED ASSAULT',\n",
       "       'BURGLARY', 'LARCENY', 'MTR VEHICLE THEFT', 'ARSON'],\n",
       "      dtype='object')"
      ]
     },
     "execution_count": 42,
     "metadata": {},
     "output_type": "execute_result"
    }
   ],
   "source": [
    "merge_Zillow_Crime_df = pd.merge(zillow_df, crime2017_df, how='left', left_on=\"City\", right_on=\"City\")\n",
    "merge_Zillow_Crime_df.head()\n",
    "merge_Zillow_Crime_df.to_csv(\"MergeData1.csv\")\n",
    "\n",
    "merge_Zillow_Crime_df.columns"
   ]
  }
 ],
 "metadata": {
  "kernelspec": {
   "display_name": "Python 3",
   "language": "python",
   "name": "python3"
  },
  "language_info": {
   "codemirror_mode": {
    "name": "ipython",
    "version": 3
   },
   "file_extension": ".py",
   "mimetype": "text/x-python",
   "name": "python",
   "nbconvert_exporter": "python",
   "pygments_lexer": "ipython3",
   "version": "3.7.3"
  }
 },
 "nbformat": 4,
 "nbformat_minor": 2
}
